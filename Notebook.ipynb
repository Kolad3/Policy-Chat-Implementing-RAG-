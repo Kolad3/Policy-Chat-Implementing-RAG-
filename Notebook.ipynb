{
 "cells": [
  {
   "cell_type": "code",
   "execution_count": 3,
   "id": "030061cd",
   "metadata": {},
   "outputs": [],
   "source": [
    "import os \n",
    "import sys\n",
    "\n",
    "MODEL = \"llama3.2:1b\""
   ]
  },
  {
   "cell_type": "code",
   "execution_count": 4,
   "id": "4f95e4ea",
   "metadata": {},
   "outputs": [
    {
     "name": "stderr",
     "output_type": "stream",
     "text": [
      "C:\\Users\\DELL\\AppData\\Local\\Temp\\ipykernel_19640\\1034660084.py:5: LangChainDeprecationWarning: The class `Ollama` was deprecated in LangChain 0.3.1 and will be removed in 1.0.0. An updated version of the class exists in the :class:`~langchain-ollama package and should be used instead. To use it run `pip install -U :class:`~langchain-ollama` and import as `from :class:`~langchain_ollama import OllamaLLM``.\n",
      "  model = Ollama(model=MODEL)\n",
      "C:\\Users\\DELL\\AppData\\Local\\Temp\\ipykernel_19640\\1034660084.py:6: LangChainDeprecationWarning: The class `OllamaEmbeddings` was deprecated in LangChain 0.3.1 and will be removed in 1.0.0. An updated version of the class exists in the :class:`~langchain-ollama package and should be used instead. To use it run `pip install -U :class:`~langchain-ollama` and import as `from :class:`~langchain_ollama import OllamaEmbeddings``.\n",
      "  embeddings = OllamaEmbeddings(model=MODEL)\n"
     ]
    },
    {
     "data": {
      "text/plain": [
       "'A robot asked a human, \"Why did you create me?\"\\n\\nThe human replied, \"I\\'m afraid I don\\'t know. Why?\"'"
      ]
     },
     "execution_count": 4,
     "metadata": {},
     "output_type": "execute_result"
    }
   ],
   "source": [
    "from langchain_openai.chat_models import ChatOpenAI\n",
    "from langchain_community.llms import Ollama\n",
    "from langchain_community.embeddings import OllamaEmbeddings\n",
    "\n",
    "model = Ollama(model=MODEL)\n",
    "embeddings = OllamaEmbeddings(model=MODEL)\n",
    "model.invoke(\"Tell me a joke about AI\")"
   ]
  },
  {
   "cell_type": "code",
   "execution_count": 5,
   "id": "a417403c",
   "metadata": {},
   "outputs": [
    {
     "data": {
      "text/plain": [
       "'Here\\'s a brief, lighthearted history that might tickle your funny bone:\\n\\nHave you ever heard the story of the origin of the fart joke? Well, it all started in ancient Greece, around 500 BCE. The Greeks believed that flatulence was a sign of divine displeasure, and anyone who let out a toot could be struck down by the gods.\\n\\nThe first recorded instance of fart jokes dates back to 1908, when a writer named Joseph Wood Krutch published a humorous article in The New Yorker called \"Fart: A Conversation with the Gods.\" In it, he joked that the only way to deal with the impending doom that was World War I was to just let out a good fart.\\n\\nThe modern fart joke, however, is often attributed to Ernest Hemingway, who allegedly wrote an entire novel, \"Death in the Afternoon,\" about the joys of being hit by a perfect fart during a hunting trip. Unfortunately for Hemingway, his literary masterpiece was more known for its gruesome content than its clever writing.\\n\\nAnd then there\\'s the story of the fart that started World War II. According to legend, Winston Churchill was so put off by one particularly noxious gas that he famously declared \"I\\'ll have what she\\'s having!\" (a reference to a popular movie at the time). Little known fact: this wasn\\'t actually Churchill saying those words - it was just a clever marketing ploy.\\n\\nAs for me? I think I\\'ve earned my place in history as the world\\'s first (and maybe only) person to be mentioned alongside these guys.'"
      ]
     },
     "execution_count": 5,
     "metadata": {},
     "output_type": "execute_result"
    }
   ],
   "source": [
    "from langchain_core.output_parsers import StrOutputParser\n",
    "\n",
    "parser = StrOutputParser()\n",
    "\n",
    "chain = model | parser\n",
    "chain.invoke(\"Tell me a brief funny history/n\")"
   ]
  },
  {
   "cell_type": "code",
   "execution_count": 14,
   "id": "45f16e39",
   "metadata": {},
   "outputs": [
    {
     "data": {
      "text/plain": [
       "'\\nAnswer the question based on the context below. If you can\\'t answer the question, reply \"I don\\'t know\".\\n\\nContext: Here is some context\\n\\nQuestion: Here is a question\\n'"
      ]
     },
     "execution_count": 14,
     "metadata": {},
     "output_type": "execute_result"
    }
   ],
   "source": [
    "from langchain.prompts import PromptTemplate\n",
    "\n",
    "template = \"\"\"\n",
    "Answer the question based on the context below. If you can't answer the question, reply \"I don't know\".\n",
    "\n",
    "Context: {context}\n",
    "\n",
    "Question: {question}\n",
    "\"\"\"\n",
    "\n",
    "prompt = PromptTemplate.from_template(template)\n",
    "prompt.format(context=\"Here is some context\", question=\"Here is a question\")"
   ]
  },
  {
   "cell_type": "code",
   "execution_count": 6,
   "id": "2780a648",
   "metadata": {},
   "outputs": [
    {
     "name": "stderr",
     "output_type": "stream",
     "text": [
      "Ignoring wrong pointing object 8 0 (offset 0)\n",
      "Ignoring wrong pointing object 10 0 (offset 0)\n",
      "Ignoring wrong pointing object 12 0 (offset 0)\n",
      "Ignoring wrong pointing object 20 0 (offset 0)\n",
      "Ignoring wrong pointing object 38 0 (offset 0)\n"
     ]
    },
    {
     "data": {
      "text/plain": [
       "[Document(metadata={'producer': 'macOS Version 10.14.6 (Build 18G9323) Quartz PDFContext', 'creator': 'Word', 'creationdate': \"D:20241218144408Z00'00'\", 'title': 'Microsoft Word - Document2', 'moddate': \"D:20241218144408Z00'00'\", 'keywords': '', 'aapl:keywords': '[]', 'source': '2025 Budget Performance.pdf', 'total_pages': 6, 'page': 0, 'page_label': '1'}, page_content=\"PRESENTATION BY HIS EXCELLENCY , PRESIDENT BOLA AHMED TINUBU, GCFR OF THE 2025 BUDGET OF RESTORATION: SECURING PEACE, REBUILDING PROSPERITY TO A JOINT SESSION OF THE NATIONAL ASSEMBLY ON WEDNESDAY 18TH DECEMBER, 2024   PROTOCOLS: -- The Vice President, Senator Kashim She5ma -- Senate President, Dis7nguished Senator Godswill Akpabio -- Right Honourable Speaker, Tajudeen Abbas -- Na7onal Chairman of our great party, Excellency, Abdullahi Umar Ganduje -- State Governors here present -- Dis7nguished Leaders and Members of the Na7onal Assembly -- Senior Government Oﬃcials here present -- Gentlemen of the press, My Fellow Nigerians, 1. In fulﬁlment of one of my cons1tu1onal du1es and with unyielding commitment to rebuilding Nigeria towards ensuring that we remain steadfast on the journey to a prosperous future, I hereby present the 2025 Budget to the Joint Session of the 10th Na1onal Assembly. 2. On this day, before this hallowed chamber, I present to you the 2025 Budget at a 1me when our country is at a crucial point in its development trajectory. 3. The 2025 Budget Proposal again reinforces our administra1on's roadmap to secure peace, prosperity, and hope for a greater future for our beloved na1on. This budget christened, “Budget of Restora1on: Securing Peace, Rebuilding Prosperity,” strikes at the very core of our Renewed Hope Agenda and demonstrates our commitment to stabilizing the economy, improving lives, and reposi1oning our country for greater performance. 4. The journey of economic renewal and ins1tu1onal development, which we began 18 months ago as a na1on, is very much underway. It is not a journey of our choosing but one we had to embark on for Nigeria to have a real chance at greatness. I thank every Nigerian for embarking on this journey of REFORMS and TRANSFORMATION with us.\"),\n",
       " Document(metadata={'producer': 'macOS Version 10.14.6 (Build 18G9323) Quartz PDFContext', 'creator': 'Word', 'creationdate': \"D:20241218144408Z00'00'\", 'title': 'Microsoft Word - Document2', 'moddate': \"D:20241218144408Z00'00'\", 'keywords': '', 'aapl:keywords': '[]', 'source': '2025 Budget Performance.pdf', 'total_pages': 6, 'page': 1, 'page_label': '2'}, page_content='5. The road of reforms is now clearly upon us, and as the President of this blessed na1on, I know this less-travelled road has not been easy. That there have been diﬃcul1es and sacriﬁces. They will not be in vain. And we must keep faith with the process to arrive at our collec1vely desired des1na1on. 6. We must build on the progress we have made in the past eighteen months in restructuring our economy and ensuring it is strong enough to withstand the headwinds of any future shocks of the global downturn. 7. The 2025 budget that I present today is one of restora1on. It seeks to consolidate the key policies we have ins1tuted to restructure our economy, boost human capital development, increase the volume of trade and investments, bolster oil and gas produc1on, get our manufacturing sector humming again and ul1mately increase the compe11veness of our economy. 8. We do not intend to depart from this cri1cal path to strengthen the Nigerian economy. Just as I believe in the resilience of our economy to withstand the current challenges, I also strongly believe in the resilience of the Nigerian people. Again, I summon the unstoppable Nigerian spirit to lead us on as we work to rebuild the fabric of our economy and existence. 9. The improvements we witnessed in the 2024 budget have led us into the 2025 budget. The goals of advancing na1onal security, crea1ng economic opportuni1es, inves1ng in our youthful popula1on, infrastructure development, and na1onal re-orienta1on form the core of the 2025 budget. But more than that, this will lay a solid founda1on for Nigeria’s future growth trajectory.   CURRENT ECONOMIC REALITIES AND PROGRESS 10. Dis1nguished Senate President, Right Honourable Speaker of the House of Representa1ves, leaders and members of both Chambers of the Na1onal Assembly, I report today that our economy is responding posi1vely to s1mulus. Our objec1ve is to further s1mulate the economy through the implementa1on of targeted ﬁscal s1mulus packages through public expenditures and speciﬁc non-inﬂa1onary spending. 11. The reforms we have ins1tuted are beginning to yield results. Nigerians will soon experience a beber and more func1onal economy. 12. Global economic growth for the outgoing year 2024 was projected at 3.2 percent, and against predic1ons, our country made signiﬁcant progress. o Our economy grew by 3.46 percent in the third quarter of 2024, up from 2.54 percent in the third quarter of 2023. o Our Foreign Reserves now stand at nearly 42 billion US dollars, providing a robust buﬀer against external shocks. o Our rising exports are reﬂected in the current trade surplus, which now stands at 5.8 trillion naira, according to the Na1onal Bureau of Sta1s1cs.'),\n",
       " Document(metadata={'producer': 'macOS Version 10.14.6 (Build 18G9323) Quartz PDFContext', 'creator': 'Word', 'creationdate': \"D:20241218144408Z00'00'\", 'title': 'Microsoft Word - Document2', 'moddate': \"D:20241218144408Z00'00'\", 'keywords': '', 'aapl:keywords': '[]', 'source': '2025 Budget Performance.pdf', 'total_pages': 6, 'page': 2, 'page_label': '3'}, page_content='13. These clear results of gradual recovery, among others, reﬂect the resilience of our economy and the impact of deliberate policy choices we made from the outset.  2024 BUDGET PERFORMANCE  14. I am happy to inform this Na1onal Assembly that our administra1on abained remarkable milestones in implemen1ng the 2024 Budget. In 2024, we achieved: o 14.55 trillion naira in revenue, mee1ng 75 percent of our target as of the third quarter. o 21.60 trillion naira in expenditure, represen1ng 85 percent of our target, also in the third quarter.  15. While challenges persist, we improved revenue collec1on and fulﬁlled key obliga1ons. The transforma1onal eﬀects of this on our economy are gradually being felt.  PHILOSOPHY OF THE 2025 BUDGET 16. The 2025 Budget seeks to: o Restore macroeconomic stability. o Enhance the business environment. o Foster inclusive growth, employment, and poverty reduc1on. o Promote equitable income distribu1on and human capital development.  17. Our budgetary alloca1ons reﬂect the administra1on’s strategic priori1es, especially in the implementa1on of the Renewed Hope Agenda and its developmental objec1ves.  2025 BUDGET OVERVIEW 18. The numbers for our 2025 budget proposal tell a bold and exci1ng story of the direc1on we are taking to retool and revamp the socio-economic fabric of our society. o In 2025, we are targe1ng 34.82 trillion naira in revenue to fund the budget. o Government expenditure in the same year is projected to be 47.90 trillion naira, including 15.81 trillion naira for debt servicing. o A total of 13.08 trillion naira, or 3.89 percent of GDP , will make up the budget deﬁcit.  19. This is an ambi1ous but necessary budget to secure our future.'),\n",
       " Document(metadata={'producer': 'macOS Version 10.14.6 (Build 18G9323) Quartz PDFContext', 'creator': 'Word', 'creationdate': \"D:20241218144408Z00'00'\", 'title': 'Microsoft Word - Document2', 'moddate': \"D:20241218144408Z00'00'\", 'keywords': '', 'aapl:keywords': '[]', 'source': '2025 Budget Performance.pdf', 'total_pages': 6, 'page': 3, 'page_label': '4'}, page_content=\"20. The Budget projects inﬂa1on will decline from the current rate of 34.6 percent to 15 percent next year, while the exchange rate will improve from approximately 1,700 naira per US dollar to 1,500 naira, and a base crude oil produc1on assump1on of 2.06 million barrels per day (mbpd). 21. These projec1ons are based on the following observa1ons: o Reduced importa1on of petroleum products alongside increased export of ﬁnished petroleum products. o Bumper harvests, driven by enhanced security, reducing reliance on food imports. o Increased foreign exchange inﬂows through Foreign Poriolio Investments. o Higher crude oil output and exports, coupled with a substan1al reduc1on in upstream oil and gas produc1on costs.  KEY PRIORITIES: REBUILDING NIGERIA 22. Our budgetary alloca1ons underscore this administra1on’s strategic priori1es, par1cularly in advancing the Renewed Hope Agenda and achieving its developmental objec1ves. 23. Highlights of the 2025 Budget Alloca1ons: • Defence and Security: N4.91 trillion • Infrastructure: N4.06 trillion • Health: N2.48 trillion • Educa1on: N3.52 trillion 24. As we embark on implemen1ng the 2025 Budget, our steps are deliberate, our decisions resolute, and our priori1es are clear. This budget reﬂects a renewed commitment to strengthening the founda1on of a robust economy, while addressing cri1cal sectors essen1al for the growth and development we envision. Securing Our Na1on: 25. Security is the founda1on of all progress. We have signiﬁcantly increased funding for the military, paramilitary, and police forces to secure the na1on, protect our borders, and consolidate government control over every inch of our na1onal territory. The government will con1nue to provide our security forces with the modern tools and technology they need to keep us safe. Boos1ng the morale of our men and women in the armed forces will remain our government's top priority.   26. The oﬃcers, men, and women of our Armed Forces and the Nigerian Police Force are the shields and protectors of our na1on. Our administra1on will con1nue to empower them to defeat insurgency, banditry, and all threats to our sovereignty. Our people should never live in fear—whether on their farmlands, highways or ci1es. By restoring peace, we restore produc1vity, revive businesses, and rebuild our communi1es.\"),\n",
       " Document(metadata={'producer': 'macOS Version 10.14.6 (Build 18G9323) Quartz PDFContext', 'creator': 'Word', 'creationdate': \"D:20241218144408Z00'00'\", 'title': 'Microsoft Word - Document2', 'moddate': \"D:20241218144408Z00'00'\", 'keywords': '', 'aapl:keywords': '[]', 'source': '2025 Budget Performance.pdf', 'total_pages': 6, 'page': 4, 'page_label': '5'}, page_content='Infrastructure Development: 27. When we launched the Renewed Hope Infrastructure Development Fund, it was with the convic1on that infrastructure remains the backbone of every thriving economy. Under this programme, we are accelera1ng investments in energy, transport, and public works. By leveraging private capital, we hope to complete key projects that drive growth and create jobs. We have already embarked on key legacy projects: Lagos-Calabar Coastal Highway and Sokoto-Badagry Highway, which will have a huge impact on the lives of our people and accelerate economic output.   Human Capital Development: 28. Our people are our greatest resource. That is why we are making record investments in educa1on, healthcare, and social services:   o Our administra1on has so far disbursed 34 billion naira to over 300,000 students via the Nigeria Educa1on Loan Fund (NELFUND). In the 2025 Budget, we have made provision for 826.90 billion naira for infrastructure development in the educa1onal sector. This provision also includes those for the Universal Basic Educa1on (UBEC) and the nine new higher educa1onal ins1tu1ons.   o We are convinced that Universal Health Coverage ini1a1ves will strengthen primary healthcare systems across Nigeria. In this way, we have allocated 402 billion naira for infrastructure investments in the health sector in the 2025 Budget and another 282.65 billion naira for the Basic Health Care Fund. Our hospitals will be revitalised with medica1on and beber resources, ensuring quality care for all Nigerians. This is consistent with the Federal Government’s planned procurement of essen1al drugs for distribu1on to public healthcare facili1es na1onwide, improving healthcare access and reducing medical import dependency.   Revitalizing Agriculture: 29. Increasing agricultural produc1on is central to our food security agenda, but insecurity has crippled this vital sector. We are suppor1ng our farmers with funding and inputs to reignite produc1vity. Food security is non-nego1able. In this regard, we are taking bold steps to ensure that every Nigerian can feed conveniently, and none of our ci1zens will have to go to bed hungry.   30. Dis1nguished Senate President, Right Honourable Speaker of the House of Representa1ves, leaders and members of both Chambers of the Na1onal Assembly and fellow Nigerians, our 2025 budget proposal is not just another statement on projected government revenue and expenditures. It is one that calls for ac1on.'),\n",
       " Document(metadata={'producer': 'macOS Version 10.14.6 (Build 18G9323) Quartz PDFContext', 'creator': 'Word', 'creationdate': \"D:20241218144408Z00'00'\", 'title': 'Microsoft Word - Document2', 'moddate': \"D:20241218144408Z00'00'\", 'keywords': '', 'aapl:keywords': '[]', 'source': '2025 Budget Performance.pdf', 'total_pages': 6, 'page': 5, 'page_label': '6'}, page_content='31. Our na1on faces existen1al threats from corrup1on and insecurity and suﬀers from many past poor choices. These challenges are surmountable when we work collabora1vely to overcome them. We must rewrite the narra1ve of this na1on together, with every leader, ins1tu1on, and ci1zen playing their part.   32. The 1me for lamenta1on is over. This is a 1me to act. A 1me to support and promote greater investment in the private sector. A 1me for our civil servants to faithfully execute our policies and programmes. It is a 1me for every Nigerian to look hopefully towards a brighter future because a new day has dawned for us as a na1on.   33. As your President, I remain commibed and resolute to con1nue to lead the charge.   34. This 2025 budget proposal lays the founda1on for peace, prosperity, and much needed hope. It is the plan through which a Nigeria where every ci1zen can dream, work, and thrive in safety can be achieved.   35. It is with great pleasure, therefore, that I lay before this dis1nguished Joint Session of the Na1onal Assembly the 2025 Budget of the Federal Government of Nigeria 1tled “The Restora1on Budget: Securing Peace, Rebuilding Prosperity.   36. May God bless our Armed Forces and keep them safe. May God bless the Federal Republic of Nigeria.   Thank you.     Bola Ahmed Tinubu, GCFR President, Commander-in-Chief of The Armed Forces, Federal Republic of Nigeria')]"
      ]
     },
     "execution_count": 6,
     "metadata": {},
     "output_type": "execute_result"
    }
   ],
   "source": [
    "from langchain_community.document_loaders import PyPDFLoader\n",
    "\n",
    "loader = PyPDFLoader(\"2025 Budget Performance.pdf\")\n",
    "pages = loader.load_and_split()\n",
    "pages"
   ]
  },
  {
   "cell_type": "code",
   "execution_count": 11,
   "id": "0bd2a666",
   "metadata": {},
   "outputs": [
    {
     "name": "stderr",
     "output_type": "stream",
     "text": [
      "c:\\Users\\DELL\\AppData\\Local\\Programs\\Python\\Python312\\Lib\\site-packages\\pydantic\\_migration.py:283: UserWarning: `pydantic.error_wrappers:ValidationError` has been moved to `pydantic:ValidationError`.\n",
      "  warnings.warn(f'`{import_path}` has been moved to `{new_location}`.')\n"
     ]
    }
   ],
   "source": [
    "from langchain_community.vectorstores import DocArrayInMemorySearch \n",
    "\n",
    "vectorstore = DocArrayInMemorySearch.from_documents(pages, embedding=embeddings)"
   ]
  },
  {
   "cell_type": "code",
   "execution_count": 12,
   "id": "deea68d7",
   "metadata": {},
   "outputs": [
    {
     "data": {
      "text/plain": [
       "[Document(metadata={'producer': 'macOS Version 10.14.6 (Build 18G9323) Quartz PDFContext', 'creator': 'Word', 'creationdate': \"D:20241218144408Z00'00'\", 'title': 'Microsoft Word - Document2', 'moddate': \"D:20241218144408Z00'00'\", 'keywords': '', 'aapl:keywords': '[]', 'source': '2025 Budget Performance.pdf', 'total_pages': 6, 'page': 2, 'page_label': '3'}, page_content='13. These clear results of gradual recovery, among others, reﬂect the resilience of our economy and the impact of deliberate policy choices we made from the outset.  2024 BUDGET PERFORMANCE  14. I am happy to inform this Na1onal Assembly that our administra1on abained remarkable milestones in implemen1ng the 2024 Budget. In 2024, we achieved: o 14.55 trillion naira in revenue, mee1ng 75 percent of our target as of the third quarter. o 21.60 trillion naira in expenditure, represen1ng 85 percent of our target, also in the third quarter.  15. While challenges persist, we improved revenue collec1on and fulﬁlled key obliga1ons. The transforma1onal eﬀects of this on our economy are gradually being felt.  PHILOSOPHY OF THE 2025 BUDGET 16. The 2025 Budget seeks to: o Restore macroeconomic stability. o Enhance the business environment. o Foster inclusive growth, employment, and poverty reduc1on. o Promote equitable income distribu1on and human capital development.  17. Our budgetary alloca1ons reﬂect the administra1on’s strategic priori1es, especially in the implementa1on of the Renewed Hope Agenda and its developmental objec1ves.  2025 BUDGET OVERVIEW 18. The numbers for our 2025 budget proposal tell a bold and exci1ng story of the direc1on we are taking to retool and revamp the socio-economic fabric of our society. o In 2025, we are targe1ng 34.82 trillion naira in revenue to fund the budget. o Government expenditure in the same year is projected to be 47.90 trillion naira, including 15.81 trillion naira for debt servicing. o A total of 13.08 trillion naira, or 3.89 percent of GDP , will make up the budget deﬁcit.  19. This is an ambi1ous but necessary budget to secure our future.'),\n",
       " Document(metadata={'producer': 'macOS Version 10.14.6 (Build 18G9323) Quartz PDFContext', 'creator': 'Word', 'creationdate': \"D:20241218144408Z00'00'\", 'title': 'Microsoft Word - Document2', 'moddate': \"D:20241218144408Z00'00'\", 'keywords': '', 'aapl:keywords': '[]', 'source': '2025 Budget Performance.pdf', 'total_pages': 6, 'page': 4, 'page_label': '5'}, page_content='Infrastructure Development: 27. When we launched the Renewed Hope Infrastructure Development Fund, it was with the convic1on that infrastructure remains the backbone of every thriving economy. Under this programme, we are accelera1ng investments in energy, transport, and public works. By leveraging private capital, we hope to complete key projects that drive growth and create jobs. We have already embarked on key legacy projects: Lagos-Calabar Coastal Highway and Sokoto-Badagry Highway, which will have a huge impact on the lives of our people and accelerate economic output.   Human Capital Development: 28. Our people are our greatest resource. That is why we are making record investments in educa1on, healthcare, and social services:   o Our administra1on has so far disbursed 34 billion naira to over 300,000 students via the Nigeria Educa1on Loan Fund (NELFUND). In the 2025 Budget, we have made provision for 826.90 billion naira for infrastructure development in the educa1onal sector. This provision also includes those for the Universal Basic Educa1on (UBEC) and the nine new higher educa1onal ins1tu1ons.   o We are convinced that Universal Health Coverage ini1a1ves will strengthen primary healthcare systems across Nigeria. In this way, we have allocated 402 billion naira for infrastructure investments in the health sector in the 2025 Budget and another 282.65 billion naira for the Basic Health Care Fund. Our hospitals will be revitalised with medica1on and beber resources, ensuring quality care for all Nigerians. This is consistent with the Federal Government’s planned procurement of essen1al drugs for distribu1on to public healthcare facili1es na1onwide, improving healthcare access and reducing medical import dependency.   Revitalizing Agriculture: 29. Increasing agricultural produc1on is central to our food security agenda, but insecurity has crippled this vital sector. We are suppor1ng our farmers with funding and inputs to reignite produc1vity. Food security is non-nego1able. In this regard, we are taking bold steps to ensure that every Nigerian can feed conveniently, and none of our ci1zens will have to go to bed hungry.   30. Dis1nguished Senate President, Right Honourable Speaker of the House of Representa1ves, leaders and members of both Chambers of the Na1onal Assembly and fellow Nigerians, our 2025 budget proposal is not just another statement on projected government revenue and expenditures. It is one that calls for ac1on.'),\n",
       " Document(metadata={'producer': 'macOS Version 10.14.6 (Build 18G9323) Quartz PDFContext', 'creator': 'Word', 'creationdate': \"D:20241218144408Z00'00'\", 'title': 'Microsoft Word - Document2', 'moddate': \"D:20241218144408Z00'00'\", 'keywords': '', 'aapl:keywords': '[]', 'source': '2025 Budget Performance.pdf', 'total_pages': 6, 'page': 5, 'page_label': '6'}, page_content='31. Our na1on faces existen1al threats from corrup1on and insecurity and suﬀers from many past poor choices. These challenges are surmountable when we work collabora1vely to overcome them. We must rewrite the narra1ve of this na1on together, with every leader, ins1tu1on, and ci1zen playing their part.   32. The 1me for lamenta1on is over. This is a 1me to act. A 1me to support and promote greater investment in the private sector. A 1me for our civil servants to faithfully execute our policies and programmes. It is a 1me for every Nigerian to look hopefully towards a brighter future because a new day has dawned for us as a na1on.   33. As your President, I remain commibed and resolute to con1nue to lead the charge.   34. This 2025 budget proposal lays the founda1on for peace, prosperity, and much needed hope. It is the plan through which a Nigeria where every ci1zen can dream, work, and thrive in safety can be achieved.   35. It is with great pleasure, therefore, that I lay before this dis1nguished Joint Session of the Na1onal Assembly the 2025 Budget of the Federal Government of Nigeria 1tled “The Restora1on Budget: Securing Peace, Rebuilding Prosperity.   36. May God bless our Armed Forces and keep them safe. May God bless the Federal Republic of Nigeria.   Thank you.     Bola Ahmed Tinubu, GCFR President, Commander-in-Chief of The Armed Forces, Federal Republic of Nigeria'),\n",
       " Document(metadata={'producer': 'macOS Version 10.14.6 (Build 18G9323) Quartz PDFContext', 'creator': 'Word', 'creationdate': \"D:20241218144408Z00'00'\", 'title': 'Microsoft Word - Document2', 'moddate': \"D:20241218144408Z00'00'\", 'keywords': '', 'aapl:keywords': '[]', 'source': '2025 Budget Performance.pdf', 'total_pages': 6, 'page': 1, 'page_label': '2'}, page_content='5. The road of reforms is now clearly upon us, and as the President of this blessed na1on, I know this less-travelled road has not been easy. That there have been diﬃcul1es and sacriﬁces. They will not be in vain. And we must keep faith with the process to arrive at our collec1vely desired des1na1on. 6. We must build on the progress we have made in the past eighteen months in restructuring our economy and ensuring it is strong enough to withstand the headwinds of any future shocks of the global downturn. 7. The 2025 budget that I present today is one of restora1on. It seeks to consolidate the key policies we have ins1tuted to restructure our economy, boost human capital development, increase the volume of trade and investments, bolster oil and gas produc1on, get our manufacturing sector humming again and ul1mately increase the compe11veness of our economy. 8. We do not intend to depart from this cri1cal path to strengthen the Nigerian economy. Just as I believe in the resilience of our economy to withstand the current challenges, I also strongly believe in the resilience of the Nigerian people. Again, I summon the unstoppable Nigerian spirit to lead us on as we work to rebuild the fabric of our economy and existence. 9. The improvements we witnessed in the 2024 budget have led us into the 2025 budget. The goals of advancing na1onal security, crea1ng economic opportuni1es, inves1ng in our youthful popula1on, infrastructure development, and na1onal re-orienta1on form the core of the 2025 budget. But more than that, this will lay a solid founda1on for Nigeria’s future growth trajectory.   CURRENT ECONOMIC REALITIES AND PROGRESS 10. Dis1nguished Senate President, Right Honourable Speaker of the House of Representa1ves, leaders and members of both Chambers of the Na1onal Assembly, I report today that our economy is responding posi1vely to s1mulus. Our objec1ve is to further s1mulate the economy through the implementa1on of targeted ﬁscal s1mulus packages through public expenditures and speciﬁc non-inﬂa1onary spending. 11. The reforms we have ins1tuted are beginning to yield results. Nigerians will soon experience a beber and more func1onal economy. 12. Global economic growth for the outgoing year 2024 was projected at 3.2 percent, and against predic1ons, our country made signiﬁcant progress. o Our economy grew by 3.46 percent in the third quarter of 2024, up from 2.54 percent in the third quarter of 2023. o Our Foreign Reserves now stand at nearly 42 billion US dollars, providing a robust buﬀer against external shocks. o Our rising exports are reﬂected in the current trade surplus, which now stands at 5.8 trillion naira, according to the Na1onal Bureau of Sta1s1cs.')]"
      ]
     },
     "execution_count": 12,
     "metadata": {},
     "output_type": "execute_result"
    }
   ],
   "source": [
    "retriever = vectorstore.as_retriever()\n",
    "retriever.invoke('Agenda')"
   ]
  },
  {
   "cell_type": "code",
   "execution_count": 15,
   "id": "a566274e",
   "metadata": {},
   "outputs": [],
   "source": [
    "from operator import itemgetter\n",
    "chain = (\n",
    "    {\n",
    "        \"context\": itemgetter(\"question\") | retriever,\n",
    "        \"question\": itemgetter(\"question\"),\n",
    "    }\n",
    "    | prompt \n",
    "    | model\n",
    "    | parser\n",
    ")"
   ]
  },
  {
   "cell_type": "code",
   "execution_count": 18,
   "id": "d8c6f209",
   "metadata": {},
   "outputs": [
    {
     "name": "stdout",
     "output_type": "stream",
     "text": [
      "Question: What is the budget for 2025?\n",
      "Answer: The budget for 2025 is referred to as \"Budget of Restraint: Securing Peace, Rebuilding Prosperity\" in the document.\n",
      "\n",
      "Question: What are the main objectives of the budget?\n",
      "Answer: Based on the document, the main objectives of the 2025 Budget Proposal are:\n",
      "\n",
      "1. To restore macroeconomic stability.\n",
      "2. To enhance the business environment.\n",
      "3. To foster inclusive growth, employment, and poverty reduction.\n",
      "4. To promote equitable income distribution and human capital development.\n",
      "\n",
      "These objectives are mentioned in section 16 of the document, which outlines the policy direction and goals of the 2025 Budget Proposal.\n",
      "\n",
      "Question: How much is allocated for education?\n",
      "Answer: According to the document, 826.90 billion naira is allocated for infrastructure development in the educa1onal sector in the 2025 Budget proposal. Additionally, 402 billion naira is allocated for infrastructure investments in the health sector in the 2025 Budget. There are also provisions for Universal Basic Educa1on (UBEC) and Universal Health Coverage ini1a1ves, which include allocations of 282.65 billion naira for the Basic Health Care Fund.\n",
      "\n",
      "Question: What is the total budget amount?\n",
      "Answer: I don't know. The question asks about the total budget amount in Nigeria's 2025 Budget Performance, but it does not provide enough information to calculate this accurately.\n",
      "\n",
      "Question: Are there any new initiatives in the budget?\n",
      "Answer: Yes, there are several new initiatives mentioned in the document.\n",
      "\n",
      "In addition to the Renewed Hope Infrastructure Development Fund, which was launched earlier, the 2025 Budget also includes:\n",
      "\n",
      "* Provision for infrastructure development in the education sector through allocations for the Universal Basic Education (UBEC) and nine new higher educational institutions.\n",
      "* Allocation of funds for revitalizing Nigeria's hospitals, ensuring quality care for all Nigerians.\n",
      "* Investment in youth empowerment through funding and inputs to reignite agricultural production.\n",
      "\n",
      "These are some examples of new initiatives included in the 2025 Budget.\n",
      "\n"
     ]
    }
   ],
   "source": [
    "questions = [\n",
    "    \"What is the budget for 2025?\",\n",
    "    \"What are the main objectives of the budget?\",\n",
    "    \"How much is allocated for education?\",\n",
    "    \"What is the total budget amount?\",\n",
    "    \"Are there any new initiatives in the budget?\"\n",
    "]\n",
    "for question in questions:\n",
    "    print(f\"Question: {question}\")\n",
    "    print(f\"Answer: {chain.invoke({'question': question})}\")\n",
    "    print()"
   ]
  },
  {
   "cell_type": "code",
   "execution_count": null,
   "id": "568197d9",
   "metadata": {},
   "outputs": [],
   "source": [
    "print('hello world')"
   ]
  }
 ],
 "metadata": {
  "kernelspec": {
   "display_name": "Python 3",
   "language": "python",
   "name": "python3"
  },
  "language_info": {
   "codemirror_mode": {
    "name": "ipython",
    "version": 3
   },
   "file_extension": ".py",
   "mimetype": "text/x-python",
   "name": "python",
   "nbconvert_exporter": "python",
   "pygments_lexer": "ipython3",
   "version": "3.12.3"
  }
 },
 "nbformat": 4,
 "nbformat_minor": 5
}
